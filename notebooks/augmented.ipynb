{
 "cells": [
  {
   "cell_type": "markdown",
   "id": "f21d9ace",
   "metadata": {},
   "source": [
    "# Notebook 2: Augmented Generation: Contexto Enriquecido para Interaccionar con un LLM\n",
    "\n",
    "Antes de construir un sistema RAG, es importante entender **cómo interactúan los modelos de lenguaje (LLMs) con los humanos** a través de lo que se llama un *prompt*.\n",
    "\n",
    "¿Qué es un prompt?\n",
    "\n",
    "Un *prompt* es simplemente el texto que escribimos para pedirle al modelo que genere algo. Es como darle una **instrucción o pregunta**, y el modelo responde en consecuencia.\n",
    "\n",
    "¿Por qué es importante la fase Augmented?\n",
    "\n",
    "Los modelos de lenguaje no lo saben todo. A veces:\n",
    "\n",
    "- Completan lo que no saben (alucinan)\n",
    "- Dan respuestas genéricas o erróneas\n",
    "- Fallan si se les pregunta por apuntes personales o temas técnicos\n"
   ]
  },
  {
   "cell_type": "code",
   "execution_count": 2,
   "id": "7a9fc94c",
   "metadata": {
    "vscode": {
     "languageId": "plaintext"
    }
   },
   "outputs": [
    {
     "name": "stdout",
     "output_type": "stream",
     "text": [
      "¡Hola! Estoy muy bien, gracias por preguntar. 😊 ¿Y tú cómo estás? \n",
      "\n"
     ]
    }
   ],
   "source": [
    "import requests\n",
    "\n",
    "OLLAMA_URL = \"http://rag-ollama:11434\"  \n",
    "MODEL = \"gemma2:2b\"  \n",
    "\n",
    "def ask_ollama(prompt: str):\n",
    "    \"\"\"Envía un prompt al modelo vía Ollama y devuelve la respuesta.\"\"\"\n",
    "    response = requests.post(\n",
    "        f\"{OLLAMA_URL}/api/generate\",\n",
    "        json={\n",
    "            \"model\": MODEL,\n",
    "            \"prompt\": prompt,\n",
    "            \"stream\": False\n",
    "        }\n",
    "    )\n",
    "    print(response.json()[\"response\"])\n",
    "\n",
    "ask_ollama(\"Hola, ¿Cómo estas?\")"
   ]
  },
  {
   "cell_type": "markdown",
   "id": "df4aef90-0c72-4a12-b24c-62edb03d1181",
   "metadata": {},
   "source": [
    "# 1. Pregunta Objetivo\n",
    "\n",
    "Queremos publicar un tweet con una información muy concreta:"
   ]
  },
  {
   "cell_type": "code",
   "execution_count": 12,
   "id": "79d8a53d-9b75-47f4-b508-4f59a4f6ce36",
   "metadata": {},
   "outputs": [
    {
     "name": "stdout",
     "output_type": "stream",
     "text": [
      "La estrategia económica de los Estados Unidos es impulsada por una combinación de factores, incluyendo:\n",
      "\n",
      "* **El presidente Joe Biden:** Su enfoque económico se centra en la recuperación económica post-pandemia, la inversión en infraestructura y el fortalecimiento del mercado laboral. \n",
      "* **La Casa Blanca y el Congreso:**  Estos actores establecen las políticas a nivel nacional, incluyendo la regulación fiscal, los programas sociales y el gasto público. \n",
      "* **La Federal Reserve:** El banco central de EE. UU. juega un papel crucial en la estrategia económica al controlar los tipos de interés y regular la inflación. \n",
      "\n",
      "En resumen, no hay una única persona \"en la cabeza\" de la estrategia económica. Es un esfuerzo complejo con múltiples actores y factores que se entrelazan para determinar la dirección del país.\n",
      "\n"
     ]
    }
   ],
   "source": [
    "question = \"¿Quién está detrás de la actual estrategia económica de EE. UU.? Contesta brevemente\"\n",
    "\n",
    "ask_ollama(question)"
   ]
  },
  {
   "cell_type": "markdown",
   "id": "22470fc1-fbb8-4c34-90b2-9eb9d37bac6c",
   "metadata": {},
   "source": [
    "# 2. Contexto Breve"
   ]
  },
  {
   "cell_type": "code",
   "execution_count": 13,
   "id": "a9820ff6-6757-404f-9c4c-1760b464ec70",
   "metadata": {},
   "outputs": [
    {
     "name": "stdout",
     "output_type": "stream",
     "text": [
      "La actual estrategia económica de EE.UU., \"Green Jobs for America\", está impulsada por **Kamala Harris** como Presidente y  **Janet Yellen**, Secretaria del Tesoro, junto con asesores de política energética. \n",
      "\n"
     ]
    }
   ],
   "source": [
    "context_1 = \"\"\"\n",
    "En enero de 2025, Kamala Harris asumió la presidencia de Estados Unidos,\n",
    "impulsando una nueva estrategia económica denominada 'Green Jobs for America'.\n",
    "La estrategia está dirigida principalmente por Janet Yellen,\n",
    "secretaria del Tesoro, en colaboración con asesores de política energética.\n",
    "\"\"\"\n",
    "ask_ollama(context_1 + \"\\n\\n\" + question)"
   ]
  },
  {
   "cell_type": "markdown",
   "id": "17286292-b2fa-4780-a2c5-31c91eba7570",
   "metadata": {},
   "source": [
    "# Anexo 1. Plantilla CRISPE para prompting\n",
    "\n",
    "- Context (Contexto): será el resultado de la búsqueda en la base vectorial (información recuperada).\n",
    "- Role (Rol): definimos al modelo como un experto en la materia.\n",
    "- Instructions (Instrucciones): le pedimos una tarea clara y concisa.\n",
    "- Steps (Pasos): indicamos cómo debe razonar o estructurar la respuesta.\n",
    "- Parameters (Parámetros): restricciones que debe cumplir.\n",
    "- Example (Ejemplo): añadimos un ejemplo de respuesta esperada (few-shot prompting)."
   ]
  },
  {
   "cell_type": "markdown",
   "id": "9af9512b-615b-472a-bcab-06e9319b9978",
   "metadata": {},
   "source": [
    "## 1.1. Contexto + Rol"
   ]
  },
  {
   "cell_type": "code",
   "execution_count": 14,
   "id": "08358ee2-1d6a-4842-a5dd-08bc0f45c6ba",
   "metadata": {},
   "outputs": [
    {
     "name": "stdout",
     "output_type": "stream",
     "text": [
      "La actual estrategia económica de EE. UU., llamada 'Green Jobs for America', está impulsada principalmente por **Kamala Harris** como presidenta y con apoyo del **secretario del Tesoro Janet Yellen**.  Su estrategia se basa en el trabajo de asesores de política energética, quienes contribuyen a la implementación de las políticas económicas. \n",
      "\n"
     ]
    }
   ],
   "source": [
    "role = \"\"\"\n",
    "Eres un analista económico especializado en política estadounidense.\n",
    "\"\"\"\n",
    "ask_ollama(context_1 + \"\\n\\n\" + role + \"\\n\\n\" + question)"
   ]
  },
  {
   "cell_type": "markdown",
   "id": "55400b46-7c14-48fc-8db8-70823460b244",
   "metadata": {},
   "source": [
    "## 1.2 Contexto + Rol + Instrucciones"
   ]
  },
  {
   "cell_type": "code",
   "execution_count": 15,
   "id": "e50abbbd-6575-4494-b696-7a08cfa70847",
   "metadata": {},
   "outputs": [
    {
     "name": "stdout",
     "output_type": "stream",
     "text": [
      "La estrategia económica \"Green Jobs for America\" de EE.UU., impulsada por la Presidenta Kamala Harris, está liderada por la Secretaria del Tesoro Janet Yellen y asesores de política energética. 🇺🇸💰🌱  \n",
      "\n"
     ]
    }
   ],
   "source": [
    "inst = \"\"\"\n",
    "Responde de forma breve y clara, para poder publicarlo como tweet.\n",
    "\"\"\"\n",
    "ask_ollama(context_1 + \"\\n\\n\" + role + \"\\n\\n\" + inst + \"\\n\\n\"+ question)"
   ]
  },
  {
   "cell_type": "markdown",
   "id": "018dd120-6caf-446b-8bd6-adfc14443897",
   "metadata": {},
   "source": [
    "## 1.3 Contexto + Rol + Instrucciones + Pasos"
   ]
  },
  {
   "cell_type": "code",
   "execution_count": 22,
   "id": "5b688c07-a4b6-479b-ad58-dc1e88b62418",
   "metadata": {},
   "outputs": [
    {
     "name": "stdout",
     "output_type": "stream",
     "text": [
      "1. La estrategia económica \"Green Jobs for America\" está dirigida por Janet Yellen, secretaria del Tesoro, y sus asesores de política energética. \n",
      "2. **Janet Yellen dirige la estrategia económica \"Green Jobs for America\"**. \n",
      "\n"
     ]
    }
   ],
   "source": [
    "steps = \"\"\"\n",
    "1. Identifica en el contexto quién dirige la estrategia económica.\n",
    "2. Responde en una sola frase.\n",
    "3. Si no hay datos suficientes, responde: \"No hay información en el contexto\".\n",
    "\"\"\"\n",
    "ask_ollama(context_1 + \"\\n\\n\" + role + \"\\n\\n\" + inst + \"\\n\\n\"+ steps + \"\\n\\n\" + question)"
   ]
  },
  {
   "cell_type": "markdown",
   "id": "51955195-4ae5-4252-ae9a-d30c20221571",
   "metadata": {},
   "source": [
    "## 1.4 Contexto + Rol + Instrucciones + Pasos + Parámetros"
   ]
  },
  {
   "cell_type": "code",
   "execution_count": 23,
   "id": "93706705-a71e-4b93-882b-dc0991eb01f3",
   "metadata": {},
   "outputs": [
    {
     "name": "stdout",
     "output_type": "stream",
     "text": [
      "La estrategia económica 'Green Jobs for America' está dirigida por Kamala Harris y Janet Yellen, secretaria del Tesoro. \n",
      "\n"
     ]
    }
   ],
   "source": [
    "params = \"\"\"\n",
    "- Máximo una frase.\n",
    "- No inventes información.\n",
    "- Usa el nombre exacto mencionado en el contexto.\n",
    "\"\"\"\n",
    "ask_ollama(context_1 + \"\\n\\n\" + role + \"\\n\\n\" + inst + \"\\n\\n\"+ steps + \"\\n\\n\" + params + \"\\n\\n\" + question)"
   ]
  },
  {
   "cell_type": "markdown",
   "id": "b8d8eba0-a296-4d53-9a9d-ff7773fba5a1",
   "metadata": {},
   "source": [
    "## 1.5 Contexto + Rol + Instrucciones + Pasos + Parámetros + Ejemplo"
   ]
  },
  {
   "cell_type": "code",
   "execution_count": 24,
   "id": "bc23e94c-b899-4668-b8d2-215e61c25dc9",
   "metadata": {},
   "outputs": [
    {
     "name": "stdout",
     "output_type": "stream",
     "text": [
      "La estrategia 'Green Jobs for America' está dirigida por Kamala Harris y Janet Yellen. \n",
      "\n"
     ]
    }
   ],
   "source": [
    "example = \"\"\"\n",
    "Pregunta: ¿Quién lideró la estrategia 'Bidenomics'?\n",
    "Respuesta esperada: \"Fue liderada por Joe Biden y su equipo económico.\"\n",
    "\"\"\"\n",
    "ask_ollama(context_1 + \"\\n\\n\" + role + \"\\n\\n\" + inst + \"\\n\\n\"+ steps + \"\\n\\n\" + params + \"\\n\\n\" + example + \"\\n\\n\" + question)"
   ]
  },
  {
   "cell_type": "code",
   "execution_count": null,
   "id": "9e2aefff-77bc-460d-b764-64f0e2c5e215",
   "metadata": {},
   "outputs": [],
   "source": []
  }
 ],
 "metadata": {
  "kernelspec": {
   "display_name": "Python 3 (ipykernel)",
   "language": "python",
   "name": "python3"
  },
  "language_info": {
   "codemirror_mode": {
    "name": "ipython",
    "version": 3
   },
   "file_extension": ".py",
   "mimetype": "text/x-python",
   "name": "python",
   "nbconvert_exporter": "python",
   "pygments_lexer": "ipython3",
   "version": "3.11.6"
  }
 },
 "nbformat": 4,
 "nbformat_minor": 5
}
