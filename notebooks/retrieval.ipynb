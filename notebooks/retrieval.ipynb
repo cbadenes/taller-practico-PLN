{
 "cells": [
  {
   "cell_type": "markdown",
   "id": "e4674bf3",
   "metadata": {},
   "source": [
    "# Notebook 1: Retrieval – “Encuentra en tus Apuntes”\n",
    "\n",
    "Convertir texto en vectores e indexarlo para luego buscar por similitud semántica.\n"
   ]
  },
  {
   "cell_type": "markdown",
   "id": "0429fdd1",
   "metadata": {},
   "source": [
    "## 1. Instalar Dependencias"
   ]
  },
  {
   "cell_type": "code",
   "execution_count": 1,
   "id": "dd98f93f",
   "metadata": {},
   "outputs": [
    {
     "name": "stdout",
     "output_type": "stream",
     "text": [
      "Requirement already satisfied: weaviate-client in /opt/conda/lib/python3.11/site-packages (4.15.4)\n",
      "Requirement already satisfied: sentence-transformers in /opt/conda/lib/python3.11/site-packages (5.0.0)\n",
      "Collecting PyPDF2\n",
      "  Downloading pypdf2-3.0.1-py3-none-any.whl.metadata (6.8 kB)\n",
      "Requirement already satisfied: httpx<0.29.0,>=0.26.0 in /opt/conda/lib/python3.11/site-packages (from weaviate-client) (0.28.1)\n",
      "Requirement already satisfied: validators==0.34.0 in /opt/conda/lib/python3.11/site-packages (from weaviate-client) (0.34.0)\n",
      "Requirement already satisfied: authlib<2.0.0,>=1.2.1 in /opt/conda/lib/python3.11/site-packages (from weaviate-client) (1.6.0)\n",
      "Requirement already satisfied: pydantic<3.0.0,>=2.8.0 in /opt/conda/lib/python3.11/site-packages (from weaviate-client) (2.11.7)\n",
      "Requirement already satisfied: grpcio<2.0.0,>=1.66.2 in /opt/conda/lib/python3.11/site-packages (from weaviate-client) (1.73.1)\n",
      "Requirement already satisfied: grpcio-tools<2.0.0,>=1.66.2 in /opt/conda/lib/python3.11/site-packages (from weaviate-client) (1.73.1)\n",
      "Requirement already satisfied: grpcio-health-checking<2.0.0,>=1.66.2 in /opt/conda/lib/python3.11/site-packages (from weaviate-client) (1.73.1)\n",
      "Requirement already satisfied: deprecation<3.0.0,>=2.1.0 in /opt/conda/lib/python3.11/site-packages (from weaviate-client) (2.1.0)\n",
      "Requirement already satisfied: transformers<5.0.0,>=4.41.0 in /opt/conda/lib/python3.11/site-packages (from sentence-transformers) (4.53.2)\n",
      "Requirement already satisfied: tqdm in /opt/conda/lib/python3.11/site-packages (from sentence-transformers) (4.66.1)\n",
      "Requirement already satisfied: torch>=1.11.0 in /opt/conda/lib/python3.11/site-packages (from sentence-transformers) (2.7.1)\n",
      "Requirement already satisfied: scikit-learn in /opt/conda/lib/python3.11/site-packages (from sentence-transformers) (1.3.1)\n",
      "Requirement already satisfied: scipy in /opt/conda/lib/python3.11/site-packages (from sentence-transformers) (1.11.3)\n",
      "Requirement already satisfied: huggingface-hub>=0.20.0 in /opt/conda/lib/python3.11/site-packages (from sentence-transformers) (0.33.4)\n",
      "Requirement already satisfied: Pillow in /opt/conda/lib/python3.11/site-packages (from sentence-transformers) (10.1.0)\n",
      "Requirement already satisfied: typing_extensions>=4.5.0 in /opt/conda/lib/python3.11/site-packages (from sentence-transformers) (4.14.1)\n",
      "Requirement already satisfied: cryptography in /opt/conda/lib/python3.11/site-packages (from authlib<2.0.0,>=1.2.1->weaviate-client) (41.0.4)\n",
      "Requirement already satisfied: packaging in /opt/conda/lib/python3.11/site-packages (from deprecation<3.0.0,>=2.1.0->weaviate-client) (23.2)\n",
      "Requirement already satisfied: protobuf<7.0.0,>=6.30.0 in /opt/conda/lib/python3.11/site-packages (from grpcio-health-checking<2.0.0,>=1.66.2->weaviate-client) (6.31.1)\n",
      "Requirement already satisfied: setuptools in /opt/conda/lib/python3.11/site-packages (from grpcio-tools<2.0.0,>=1.66.2->weaviate-client) (68.2.2)\n",
      "Requirement already satisfied: anyio in /opt/conda/lib/python3.11/site-packages (from httpx<0.29.0,>=0.26.0->weaviate-client) (4.0.0)\n",
      "Requirement already satisfied: certifi in /opt/conda/lib/python3.11/site-packages (from httpx<0.29.0,>=0.26.0->weaviate-client) (2023.7.22)\n",
      "Requirement already satisfied: httpcore==1.* in /opt/conda/lib/python3.11/site-packages (from httpx<0.29.0,>=0.26.0->weaviate-client) (1.0.9)\n",
      "Requirement already satisfied: idna in /opt/conda/lib/python3.11/site-packages (from httpx<0.29.0,>=0.26.0->weaviate-client) (3.4)\n",
      "Requirement already satisfied: h11>=0.16 in /opt/conda/lib/python3.11/site-packages (from httpcore==1.*->httpx<0.29.0,>=0.26.0->weaviate-client) (0.16.0)\n",
      "Requirement already satisfied: filelock in /opt/conda/lib/python3.11/site-packages (from huggingface-hub>=0.20.0->sentence-transformers) (3.18.0)\n",
      "Requirement already satisfied: fsspec>=2023.5.0 in /opt/conda/lib/python3.11/site-packages (from huggingface-hub>=0.20.0->sentence-transformers) (2023.9.2)\n",
      "Requirement already satisfied: pyyaml>=5.1 in /opt/conda/lib/python3.11/site-packages (from huggingface-hub>=0.20.0->sentence-transformers) (6.0.1)\n",
      "Requirement already satisfied: requests in /opt/conda/lib/python3.11/site-packages (from huggingface-hub>=0.20.0->sentence-transformers) (2.31.0)\n",
      "Requirement already satisfied: hf-xet<2.0.0,>=1.1.2 in /opt/conda/lib/python3.11/site-packages (from huggingface-hub>=0.20.0->sentence-transformers) (1.1.5)\n",
      "Requirement already satisfied: annotated-types>=0.6.0 in /opt/conda/lib/python3.11/site-packages (from pydantic<3.0.0,>=2.8.0->weaviate-client) (0.7.0)\n",
      "Requirement already satisfied: pydantic-core==2.33.2 in /opt/conda/lib/python3.11/site-packages (from pydantic<3.0.0,>=2.8.0->weaviate-client) (2.33.2)\n",
      "Requirement already satisfied: typing-inspection>=0.4.0 in /opt/conda/lib/python3.11/site-packages (from pydantic<3.0.0,>=2.8.0->weaviate-client) (0.4.1)\n",
      "Requirement already satisfied: sympy>=1.13.3 in /opt/conda/lib/python3.11/site-packages (from torch>=1.11.0->sentence-transformers) (1.14.0)\n",
      "Requirement already satisfied: networkx in /opt/conda/lib/python3.11/site-packages (from torch>=1.11.0->sentence-transformers) (3.2)\n",
      "Requirement already satisfied: jinja2 in /opt/conda/lib/python3.11/site-packages (from torch>=1.11.0->sentence-transformers) (3.1.2)\n",
      "Requirement already satisfied: numpy>=1.17 in /opt/conda/lib/python3.11/site-packages (from transformers<5.0.0,>=4.41.0->sentence-transformers) (1.26.4)\n",
      "Requirement already satisfied: regex!=2019.12.17 in /opt/conda/lib/python3.11/site-packages (from transformers<5.0.0,>=4.41.0->sentence-transformers) (2024.11.6)\n",
      "Requirement already satisfied: tokenizers<0.22,>=0.21 in /opt/conda/lib/python3.11/site-packages (from transformers<5.0.0,>=4.41.0->sentence-transformers) (0.21.2)\n",
      "Requirement already satisfied: safetensors>=0.4.3 in /opt/conda/lib/python3.11/site-packages (from transformers<5.0.0,>=4.41.0->sentence-transformers) (0.5.3)\n",
      "Requirement already satisfied: joblib>=1.1.1 in /opt/conda/lib/python3.11/site-packages (from scikit-learn->sentence-transformers) (1.3.2)\n",
      "Requirement already satisfied: threadpoolctl>=2.0.0 in /opt/conda/lib/python3.11/site-packages (from scikit-learn->sentence-transformers) (3.2.0)\n",
      "Requirement already satisfied: mpmath<1.4,>=1.1.0 in /opt/conda/lib/python3.11/site-packages (from sympy>=1.13.3->torch>=1.11.0->sentence-transformers) (1.3.0)\n",
      "Requirement already satisfied: sniffio>=1.1 in /opt/conda/lib/python3.11/site-packages (from anyio->httpx<0.29.0,>=0.26.0->weaviate-client) (1.3.0)\n",
      "Requirement already satisfied: cffi>=1.12 in /opt/conda/lib/python3.11/site-packages (from cryptography->authlib<2.0.0,>=1.2.1->weaviate-client) (1.16.0)\n",
      "Requirement already satisfied: MarkupSafe>=2.0 in /opt/conda/lib/python3.11/site-packages (from jinja2->torch>=1.11.0->sentence-transformers) (2.1.3)\n",
      "Requirement already satisfied: charset-normalizer<4,>=2 in /opt/conda/lib/python3.11/site-packages (from requests->huggingface-hub>=0.20.0->sentence-transformers) (3.3.0)\n",
      "Requirement already satisfied: urllib3<3,>=1.21.1 in /opt/conda/lib/python3.11/site-packages (from requests->huggingface-hub>=0.20.0->sentence-transformers) (2.0.7)\n",
      "Requirement already satisfied: pycparser in /opt/conda/lib/python3.11/site-packages (from cffi>=1.12->cryptography->authlib<2.0.0,>=1.2.1->weaviate-client) (2.21)\n",
      "Downloading pypdf2-3.0.1-py3-none-any.whl (232 kB)\n",
      "\u001b[2K   \u001b[90m━━━━━━━━━━━━━━━━━━━━━━━━━━━━━━━━━━━━━━━━\u001b[0m \u001b[32m232.6/232.6 kB\u001b[0m \u001b[31m11.1 MB/s\u001b[0m eta \u001b[36m0:00:00\u001b[0m\n",
      "\u001b[?25hInstalling collected packages: PyPDF2\n",
      "Successfully installed PyPDF2-3.0.1\n"
     ]
    }
   ],
   "source": [
    "!pip install weaviate-client sentence-transformers PyPDF2"
   ]
  },
  {
   "cell_type": "markdown",
   "id": "515bd3aa",
   "metadata": {},
   "source": [
    "## 2. Crear documentos de ejemplo (simulación de apuntes)"
   ]
  },
  {
   "cell_type": "code",
   "execution_count": 24,
   "id": "a37fb3f4",
   "metadata": {},
   "outputs": [],
   "source": [
    "notes = [\n",
    "    {\n",
    "        \"title\": \"Ciclo de vida del software\",\n",
    "        \"subject\": \"Fundamentos de Ingeniería del Software\",\n",
    "        \"year\": 2023,\n",
    "        \"text\": \"El ciclo de vida del software incluye etapas como análisis de requisitos, diseño, implementación, pruebas y mantenimiento.\"\n",
    "    },\n",
    "    {\n",
    "        \"title\": \"Componentes de Hadoop\",\n",
    "        \"subject\": \"Infraestructuras de Big Data\",\n",
    "        \"year\": 2024,\n",
    "        \"text\": \"Hadoop está compuesto por HDFS para almacenamiento, YARN para gestión de recursos y MapReduce para procesamiento.\"\n",
    "    },\n",
    "    {\n",
    "        \"title\": \"Modelo ágil SCRUM\",\n",
    "        \"subject\": \"Fundamentos de Ingeniería del Software\",\n",
    "        \"year\": 2024,\n",
    "        \"text\": \"SCRUM es un marco de trabajo ágil que facilita la gestión de proyectos mediante iteraciones cortas y roles bien definidos.\"\n",
    "    },\n",
    "    {\n",
    "        \"title\": \"Introducción a Spark\",\n",
    "        \"subject\": \"Infraestructuras de Big Data\",\n",
    "        \"year\": 2023,\n",
    "        \"text\": \"Apache Spark es una herramienta para el procesamiento en memoria de grandes volúmenes de datos, ideal para análisis rápidos.\"\n",
    "    },\n",
    "    {\n",
    "        \"title\": \"Control de versiones con Git\",\n",
    "        \"subject\": \"Fundamentos de Ingeniería del Software\",\n",
    "        \"year\": 2024,\n",
    "        \"text\": \"Git permite gestionar versiones del código fuente de forma distribuida, facilitando el trabajo colaborativo entre desarrolladores.\"\n",
    "    }\n",
    "]\n"
   ]
  },
  {
   "cell_type": "markdown",
   "id": "7f9f2fd6-37a9-4f39-a0cc-3aec2b698b5e",
   "metadata": {},
   "source": [
    "## 3. Conectarse a Weaviate y definir el esquema"
   ]
  },
  {
   "cell_type": "code",
   "execution_count": 25,
   "id": "06ca4dcc-2ea0-450c-9123-5593c5e0c204",
   "metadata": {},
   "outputs": [
    {
     "name": "stdout",
     "output_type": "stream",
     "text": [
      "True\n"
     ]
    }
   ],
   "source": [
    "import weaviate\n",
    "from weaviate.classes.config import Configure, DataType, VectorDistances\n",
    "\n",
    "client = weaviate.connect_to_local(\n",
    "    host=\"rag-weaviate\",\n",
    "    port=8080,\n",
    "    grpc_port=50051,\n",
    ")\n",
    "\n",
    "if client.collections.exists(\"Note\"):\n",
    "    client.collections.delete(\"Note\")\n",
    "\n",
    "client.collections.create(\n",
    "    name=\"Note\",\n",
    "    properties=[\n",
    "        {\"name\": \"title\", \"data_type\": DataType.TEXT},\n",
    "        {\"name\": \"text\", \"data_type\": DataType.TEXT},\n",
    "        {\"name\": \"subject\", \"data_type\": DataType.TEXT},\n",
    "        {\"name\": \"year\", \"data_type\": DataType.INT},\n",
    "    ],\n",
    "    vectorizer_config=Configure.Vectorizer.none(),  # No usamos vectorizador interno\n",
    "    vector_index_config=Configure.VectorIndex.hnsw(\n",
    "        distance_metric=VectorDistances.COSINE  \n",
    "    )\n",
    ")\n",
    "\n",
    "\n",
    "print(client.is_ready())  # Should print: `True`"
   ]
  },
  {
   "cell_type": "markdown",
   "id": "1d6fb2f8-fe50-4332-a8d5-7b6f3ae4e398",
   "metadata": {},
   "source": [
    "## 4. Insertar Documentos"
   ]
  },
  {
   "cell_type": "code",
   "execution_count": 26,
   "id": "bb48326e-027c-40e5-8cab-320bd4a56311",
   "metadata": {},
   "outputs": [
    {
     "name": "stdout",
     "output_type": "stream",
     "text": [
      "Ciclo de vida del software : indexed\n",
      "Componentes de Hadoop : indexed\n",
      "Modelo ágil SCRUM : indexed\n",
      "Introducción a Spark : indexed\n",
      "Control de versiones con Git : indexed\n"
     ]
    },
    {
     "name": "stderr",
     "output_type": "stream",
     "text": [
      "/tmp/ipykernel_89/4092201714.py:4: ResourceWarning: unclosed <socket.socket fd=73, family=2, type=1, proto=6, laddr=('172.18.0.4', 53190), raddr=('172.18.0.3', 8080)>\n",
      "  collection = client.collections.get(\"Note\")\n",
      "ResourceWarning: Enable tracemalloc to get the object allocation traceback\n"
     ]
    }
   ],
   "source": [
    "from sentence_transformers import SentenceTransformer\n",
    "\n",
    "model = SentenceTransformer(\"all-MiniLM-L6-v2\")\n",
    "collection = client.collections.get(\"Note\")\n",
    "\n",
    "for note in notes:\n",
    "    vector = model.encode(note[\"text\"])\n",
    "    collection.data.insert(note, vector=vector)\n",
    "    print(note[\"title\"],\": indexed\")\n"
   ]
  },
  {
   "cell_type": "markdown",
   "id": "1a5e096e-aa47-4779-af9a-d0faa241cd95",
   "metadata": {},
   "source": [
    "## 5. Consultas"
   ]
  },
  {
   "cell_type": "markdown",
   "id": "7a19b915-2844-4817-961d-c4e82e4cae11",
   "metadata": {},
   "source": [
    "### a) Semánticas"
   ]
  },
  {
   "cell_type": "code",
   "execution_count": 27,
   "id": "9bbc3b6c-b00c-4520-884e-93b535dc1510",
   "metadata": {},
   "outputs": [
    {
     "name": "stdout",
     "output_type": "stream",
     "text": [
      "[0.585] Control de versiones con Git - Fundamentos de Ingeniería del Software\n",
      "[0.591] Ciclo de vida del software - Fundamentos de Ingeniería del Software\n",
      "[0.647] Modelo ágil SCRUM - Fundamentos de Ingeniería del Software\n",
      "[0.653] Introducción a Spark - Infraestructuras de Big Data\n",
      "[0.701] Componentes de Hadoop - Infraestructuras de Big Data\n"
     ]
    }
   ],
   "source": [
    "query = \"procesamiento distribuido\"\n",
    "vector = model.encode(query)\n",
    "\n",
    "results = collection.query.near_vector(\n",
    "    vector, \n",
    "    limit=5,\n",
    "    return_metadata=[\"distance\"]\n",
    ")\n",
    "\n",
    "for r in results.objects:\n",
    "    print(f\"[{r.metadata.distance:.3f}] {r.properties['title']} - {r.properties['subject']}\")\n"
   ]
  },
  {
   "cell_type": "markdown",
   "id": "7a327862-b364-48a1-98dc-571ec780e2b8",
   "metadata": {},
   "source": [
    "### b) Meta-Información"
   ]
  },
  {
   "cell_type": "code",
   "execution_count": 28,
   "id": "d93b0ee6-46ea-47aa-b388-baea69f0ec33",
   "metadata": {},
   "outputs": [
    {
     "name": "stdout",
     "output_type": "stream",
     "text": [
      "Ciclo de vida del software - Fundamentos de Ingeniería del Software\n",
      "Modelo ágil SCRUM - Fundamentos de Ingeniería del Software\n",
      "Control de versiones con Git - Fundamentos de Ingeniería del Software\n"
     ]
    }
   ],
   "source": [
    "from weaviate.classes.query import Filter\n",
    "\n",
    "results = collection.query.fetch_objects(\n",
    "    filters=Filter.by_property(\"subject\").equal(\"Fundamentos de Ingeniería del Software\"),\n",
    "    limit=10\n",
    ")\n",
    "\n",
    "for r in results.objects:\n",
    "    print(r.properties[\"title\"], \"-\", r.properties[\"subject\"])\n"
   ]
  },
  {
   "cell_type": "code",
   "execution_count": 29,
   "id": "be4496e9-b28a-42f2-a342-ecbbea63bc86",
   "metadata": {},
   "outputs": [
    {
     "name": "stdout",
     "output_type": "stream",
     "text": [
      "Ciclo de vida del software - 2023\n",
      "Introducción a Spark - 2023\n"
     ]
    }
   ],
   "source": [
    "from weaviate.classes.query import Filter\n",
    "\n",
    "results = collection.query.fetch_objects(\n",
    "    filters=Filter.by_property(\"year\").less_than(2024),\n",
    "    limit=10\n",
    ")\n",
    "\n",
    "for r in results.objects:\n",
    "    print(r.properties[\"title\"], \"-\", r.properties[\"year\"])\n"
   ]
  },
  {
   "cell_type": "code",
   "execution_count": 32,
   "id": "f8e7c8df-c53f-488f-b85d-bf9da60592cd",
   "metadata": {},
   "outputs": [
    {
     "name": "stdout",
     "output_type": "stream",
     "text": [
      "Ciclo de vida del software - 2023\n"
     ]
    }
   ],
   "source": [
    "from weaviate.classes.query import Filter\n",
    "\n",
    "results = collection.query.fetch_objects(\n",
    "    filters=Filter.all_of([\n",
    "        Filter.by_property(\"subject\").equal(\"Fundamentos de Ingeniería del Software\"),\n",
    "        Filter.by_property(\"year\").less_than(2024)\n",
    "    ]),\n",
    "    limit=10\n",
    ")\n",
    "\n",
    "for r in results.objects:\n",
    "    print(r.properties[\"title\"], \"-\", r.properties[\"year\"])\n"
   ]
  },
  {
   "cell_type": "markdown",
   "id": "5e7436e2-5832-47f1-83ec-32a2e295b397",
   "metadata": {},
   "source": [
    "### c) Híbrida"
   ]
  },
  {
   "cell_type": "markdown",
   "id": "4d78e5a5-2247-477a-9bea-a0ab75f802b8",
   "metadata": {},
   "source": [
    "`alpha` define cuánto peso damos a cada tipo de búsqueda en una consulta híbrida:\n",
    "\n",
    "- `alpha = 0.0`: solo palabras clave (BM25)\n",
    "- `alpha = 1.0`: solo semántica (vectores)\n",
    "- `alpha = 0.5`: combinación equilibrada"
   ]
  },
  {
   "cell_type": "code",
   "execution_count": 35,
   "id": "d218b618-3964-4ed7-8d74-3c405be17510",
   "metadata": {},
   "outputs": [
    {
     "name": "stdout",
     "output_type": "stream",
     "text": [
      "[0.750] Componentes de Hadoop - Infraestructuras de Big Data\n",
      "[0.250] Control de versiones con Git - Fundamentos de Ingeniería del Software\n",
      "[0.238] Ciclo de vida del software - Fundamentos de Ingeniería del Software\n",
      "[0.115] Modelo ágil SCRUM - Fundamentos de Ingeniería del Software\n",
      "[0.103] Introducción a Spark - Infraestructuras de Big Data\n"
     ]
    }
   ],
   "source": [
    "query = \"procesamiento distribuido\"\n",
    "vector = model.encode(query)\n",
    "\n",
    "results = collection.query.hybrid(\n",
    "    query=query,\n",
    "    vector=vector,\n",
    "    alpha=0.25,\n",
    "    limit=10,\n",
    "    return_metadata=[\"score\"]\n",
    ")\n",
    "\n",
    "for r in results.objects:\n",
    "    print(f\"[{r.metadata.score:.3f}] {r.properties['title']} - {r.properties['subject']}\")\n"
   ]
  },
  {
   "cell_type": "markdown",
   "id": "8560da95-1334-4fa5-b831-9c33e927d5a7",
   "metadata": {},
   "source": [
    "# Anexo 1. Leer todos los PDFs de una carpeta"
   ]
  },
  {
   "cell_type": "code",
   "execution_count": 36,
   "id": "84a0c1a6-1045-418a-af2c-d3af86ed4d91",
   "metadata": {},
   "outputs": [
    {
     "name": "stderr",
     "output_type": "stream",
     "text": [
      "/opt/conda/lib/python3.11/site-packages/PyPDF2/__init__.py:21: DeprecationWarning: PyPDF2 is deprecated. Please move to the pypdf library instead.\n",
      "  warnings.warn(\n"
     ]
    },
    {
     "name": "stdout",
     "output_type": "stream",
     "text": [
      "\n",
      " Leyendo: 2312.10997v5.pdf\n",
      "1\n",
      "Retrieval-Augmented Generation for Large\n",
      "Language Models: A Survey\n",
      "Yunfan Gaoa, Yun Xiongb, Xinyu Gaob, Kangxiang Jiab, Jinliu Panb, Yuxi Bic, Yi Daia, Jiawei Suna, Meng\n",
      "Wangc, and Haofen Wanga,c\n",
      "aShanghai Research Institute for Intelligent Autonomous Systems, Tongji University\n",
      "bShanghai Key Laboratory of Data Science, School of Computer Science, Fudan University\n",
      "cCollege of Design and Innovation, Tongji University\n",
      "Abstract —Large Language Models (LLMs) showcase impres-\n",
      "sive capabilities but e ...\n"
     ]
    }
   ],
   "source": [
    "import os\n",
    "from PyPDF2 import PdfReader\n",
    "\n",
    "carpeta_pdfs = \"./pdfs\"  \n",
    "\n",
    "for archivo in os.listdir(carpeta_pdfs):\n",
    "    if archivo.endswith(\".pdf\"):\n",
    "        ruta_pdf = os.path.join(carpeta_pdfs, archivo)\n",
    "        print(f\"\\n Leyendo: {archivo}\")\n",
    "\n",
    "        # Abrir el PDF y extraer el texto\n",
    "        lector = PdfReader(ruta_pdf)\n",
    "        texto = \"\"\n",
    "        for pagina in lector.pages:\n",
    "            texto += pagina.extract_text()\n",
    "\n",
    "        print(texto[:500], \"...\")  # Mostramos solo los primeros 500 caracteres\n"
   ]
  },
  {
   "cell_type": "markdown",
   "id": "4ecc7b64-99f9-4660-ba9d-44e8ea252916",
   "metadata": {},
   "source": [
    "## 1.1 Obtener metadatos de un PDF "
   ]
  },
  {
   "cell_type": "code",
   "execution_count": 41,
   "id": "27276f5a-0deb-45e2-868b-b311c257128a",
   "metadata": {},
   "outputs": [
    {
     "name": "stdout",
     "output_type": "stream",
     "text": [
      "Título: None\n",
      "Autor: \n",
      "Asunto: \n",
      "Creador: LaTeX with hyperref\n",
      "Productor: pdfTeX-1.40.25\n",
      "Fecha de creación: 2024-03-28 00:54:45+00:00\n",
      "Número de páginas: 21\n"
     ]
    }
   ],
   "source": [
    "from PyPDF2 import PdfReader\n",
    "\n",
    "ruta_pdf = \"./pdfs/2312.10997v5.pdf\"\n",
    "lector = PdfReader(ruta_pdf)\n",
    "\n",
    "# ✅ Metadatos (diccionario con la info)\n",
    "meta = lector.metadata\n",
    "\n",
    "print(\"Título:\", meta.title)\n",
    "print(\"Autor:\", meta.author)\n",
    "print(\"Asunto:\", meta.subject)\n",
    "print(\"Creador:\", meta.creator)\n",
    "print(\"Productor:\", meta.producer)\n",
    "print(\"Fecha de creación:\", meta.creation_date)\n",
    "print(\"Número de páginas:\", len(lector.pages))\n"
   ]
  },
  {
   "cell_type": "markdown",
   "id": "bdeef3c3-3ddb-40a9-9a22-7fd66705ee1c",
   "metadata": {},
   "source": [
    "# Anexo 2. Dividir un documento en \"chunks\" (trozos)"
   ]
  },
  {
   "cell_type": "code",
   "execution_count": 37,
   "id": "4967a544-7aea-438d-a2e5-c125be89e3fd",
   "metadata": {},
   "outputs": [
    {
     "name": "stdout",
     "output_type": "stream",
     "text": [
      "Se han creado 4 chunks\n",
      "Primer chunk:\n",
      " Este es un documento muy largo ...Este es un documento muy largo ...Este es un documento muy largo ...Este es un documento muy largo ...Este es un documento muy largo ...Este es un documento muy largo ...Este es un documento muy largo ...Este es un documento muy largo ...Este es un documento muy largo ...Este es un documento muy largo ...Este es un documento muy largo ...Este es un documento muy largo ...Este es un documento muy largo ...Este es un documento muy largo ...Este es un documento muy\n"
     ]
    }
   ],
   "source": [
    "def dividir_en_chunks(texto, tamano=500):\n",
    "    return [texto[i:i+tamano] for i in range(0, len(texto), tamano)]\n",
    "\n",
    "# Ejemplo con un texto cualquiera\n",
    "texto = \"Este es un documento muy largo ...\" * 50  # Imagina que es el texto del PDF\n",
    "chunks = dividir_en_chunks(texto, tamano=500)\n",
    "\n",
    "print(f\"Se han creado {len(chunks)} chunks\")\n",
    "print(\"Primer chunk:\\n\", chunks[0])\n"
   ]
  },
  {
   "cell_type": "markdown",
   "id": "fc523426-1b37-4760-ac7c-c33ba25afb70",
   "metadata": {},
   "source": [
    "## 2.1 División avanzada en chunks mediante LangChain"
   ]
  },
  {
   "cell_type": "code",
   "execution_count": 38,
   "id": "897cb30b-5725-4edb-96b2-63f8e1ac1afd",
   "metadata": {},
   "outputs": [
    {
     "name": "stdout",
     "output_type": "stream",
     "text": [
      "Se han creado 4 chunks\n",
      "Primer chunk:\n",
      " Este es un documento muy largo ...Este es un documento muy largo ...Este es un documento muy largo ...Este es un documento muy largo ...Este es un documento muy largo ...Este es un documento muy largo ...Este es un documento muy largo ...Este es un documento muy largo ...Este es un documento muy largo ...Este es un documento muy largo ...Este es un documento muy largo ...Este es un documento muy largo ...Este es un documento muy largo ...Este es un documento muy largo ...Este es un documento muy\n"
     ]
    }
   ],
   "source": [
    "from langchain.text_splitter import RecursiveCharacterTextSplitter\n",
    "\n",
    "text_splitter = RecursiveCharacterTextSplitter(\n",
    "    chunk_size=500,      # Tamaño de cada chunk\n",
    "    chunk_overlap=50     # Superposición entre chunks (para no perder contexto)\n",
    ")\n",
    "\n",
    "chunks = text_splitter.split_text(texto)\n",
    "print(f\"Se han creado {len(chunks)} chunks\")\n",
    "print(\"Primer chunk:\\n\", chunks[0])\n"
   ]
  },
  {
   "cell_type": "code",
   "execution_count": null,
   "id": "615730c1-19ca-4191-93b2-db7e52907b39",
   "metadata": {},
   "outputs": [],
   "source": []
  }
 ],
 "metadata": {
  "kernelspec": {
   "display_name": "Python 3 (ipykernel)",
   "language": "python",
   "name": "python3"
  },
  "language_info": {
   "codemirror_mode": {
    "name": "ipython",
    "version": 3
   },
   "file_extension": ".py",
   "mimetype": "text/x-python",
   "name": "python",
   "nbconvert_exporter": "python",
   "pygments_lexer": "ipython3",
   "version": "3.11.6"
  }
 },
 "nbformat": 4,
 "nbformat_minor": 5
}
